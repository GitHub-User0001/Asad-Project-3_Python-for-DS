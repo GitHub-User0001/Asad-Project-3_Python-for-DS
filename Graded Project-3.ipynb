{
 "cells": [
  {
   "cell_type": "markdown",
   "id": "df867db9",
   "metadata": {},
   "source": [
    "## Model Building and saving the model using Pickle"
   ]
  },
  {
   "cell_type": "markdown",
   "id": "62259a1b",
   "metadata": {},
   "source": [
    "1. Import required libraries and read the dataset"
   ]
  },
  {
   "cell_type": "code",
   "execution_count": 5,
   "id": "0f9821a7",
   "metadata": {},
   "outputs": [],
   "source": [
    "# importing libraries\n",
    "import pandas as pd\n",
    "import numpy as np\n",
    "import seaborn as sns\n",
    "import matplotlib.pyplot as plt\n",
    "%matplotlib inline\n",
    "\n",
    "from sklearn.preprocessing import StandardScaler\n",
    "from sklearn.model_selection import train_test_split\n",
    "\n",
    "import warnings\n",
    "warnings.filterwarnings('ignore')"
   ]
  },
  {
   "cell_type": "code",
   "execution_count": 6,
   "id": "a45c2ad2",
   "metadata": {},
   "outputs": [
    {
     "data": {
      "text/html": [
       "<div>\n",
       "<style scoped>\n",
       "    .dataframe tbody tr th:only-of-type {\n",
       "        vertical-align: middle;\n",
       "    }\n",
       "\n",
       "    .dataframe tbody tr th {\n",
       "        vertical-align: top;\n",
       "    }\n",
       "\n",
       "    .dataframe thead th {\n",
       "        text-align: right;\n",
       "    }\n",
       "</style>\n",
       "<table border=\"1\" class=\"dataframe\">\n",
       "  <thead>\n",
       "    <tr style=\"text-align: right;\">\n",
       "      <th></th>\n",
       "      <th>loan_id</th>\n",
       "      <th>gender</th>\n",
       "      <th>married</th>\n",
       "      <th>dependents</th>\n",
       "      <th>education</th>\n",
       "      <th>self_employed</th>\n",
       "      <th>applicantincome</th>\n",
       "      <th>coapplicantincome</th>\n",
       "      <th>loanamount</th>\n",
       "      <th>loan_amount_term</th>\n",
       "      <th>credit_history</th>\n",
       "      <th>property_area</th>\n",
       "      <th>loan_status</th>\n",
       "    </tr>\n",
       "  </thead>\n",
       "  <tbody>\n",
       "    <tr>\n",
       "      <th>0</th>\n",
       "      <td>lp001002</td>\n",
       "      <td>male</td>\n",
       "      <td>no</td>\n",
       "      <td>0.0</td>\n",
       "      <td>graduate</td>\n",
       "      <td>no</td>\n",
       "      <td>5849</td>\n",
       "      <td>0.0</td>\n",
       "      <td>NaN</td>\n",
       "      <td>360.0</td>\n",
       "      <td>1.0</td>\n",
       "      <td>urban</td>\n",
       "      <td>y</td>\n",
       "    </tr>\n",
       "    <tr>\n",
       "      <th>1</th>\n",
       "      <td>lp001003</td>\n",
       "      <td>male</td>\n",
       "      <td>yes</td>\n",
       "      <td>1.0</td>\n",
       "      <td>graduate</td>\n",
       "      <td>no</td>\n",
       "      <td>4583</td>\n",
       "      <td>1508.0</td>\n",
       "      <td>128.0</td>\n",
       "      <td>360.0</td>\n",
       "      <td>1.0</td>\n",
       "      <td>rural</td>\n",
       "      <td>n</td>\n",
       "    </tr>\n",
       "    <tr>\n",
       "      <th>2</th>\n",
       "      <td>lp001005</td>\n",
       "      <td>male</td>\n",
       "      <td>yes</td>\n",
       "      <td>0.0</td>\n",
       "      <td>graduate</td>\n",
       "      <td>yes</td>\n",
       "      <td>3000</td>\n",
       "      <td>0.0</td>\n",
       "      <td>66.0</td>\n",
       "      <td>360.0</td>\n",
       "      <td>1.0</td>\n",
       "      <td>urban</td>\n",
       "      <td>y</td>\n",
       "    </tr>\n",
       "    <tr>\n",
       "      <th>3</th>\n",
       "      <td>lp001006</td>\n",
       "      <td>male</td>\n",
       "      <td>yes</td>\n",
       "      <td>0.0</td>\n",
       "      <td>not graduate</td>\n",
       "      <td>no</td>\n",
       "      <td>2583</td>\n",
       "      <td>2358.0</td>\n",
       "      <td>120.0</td>\n",
       "      <td>360.0</td>\n",
       "      <td>1.0</td>\n",
       "      <td>urban</td>\n",
       "      <td>y</td>\n",
       "    </tr>\n",
       "    <tr>\n",
       "      <th>4</th>\n",
       "      <td>lp001008</td>\n",
       "      <td>male</td>\n",
       "      <td>no</td>\n",
       "      <td>0.0</td>\n",
       "      <td>graduate</td>\n",
       "      <td>no</td>\n",
       "      <td>6000</td>\n",
       "      <td>0.0</td>\n",
       "      <td>141.0</td>\n",
       "      <td>360.0</td>\n",
       "      <td>1.0</td>\n",
       "      <td>urban</td>\n",
       "      <td>y</td>\n",
       "    </tr>\n",
       "  </tbody>\n",
       "</table>\n",
       "</div>"
      ],
      "text/plain": [
       "    loan_id gender married  dependents     education self_employed   \n",
       "0  lp001002   male      no         0.0      graduate            no  \\\n",
       "1  lp001003   male     yes         1.0      graduate            no   \n",
       "2  lp001005   male     yes         0.0      graduate           yes   \n",
       "3  lp001006   male     yes         0.0  not graduate            no   \n",
       "4  lp001008   male      no         0.0      graduate            no   \n",
       "\n",
       "   applicantincome  coapplicantincome  loanamount  loan_amount_term   \n",
       "0             5849                0.0         NaN             360.0  \\\n",
       "1             4583             1508.0       128.0             360.0   \n",
       "2             3000                0.0        66.0             360.0   \n",
       "3             2583             2358.0       120.0             360.0   \n",
       "4             6000                0.0       141.0             360.0   \n",
       "\n",
       "   credit_history property_area loan_status  \n",
       "0             1.0         urban           y  \n",
       "1             1.0         rural           n  \n",
       "2             1.0         urban           y  \n",
       "3             1.0         urban           y  \n",
       "4             1.0         urban           y  "
      ]
     },
     "execution_count": 6,
     "metadata": {},
     "output_type": "execute_result"
    }
   ],
   "source": [
    "df = pd.read_csv(\"loan_approval_data.csv\")\n",
    "df.head()"
   ]
  },
  {
   "cell_type": "markdown",
   "id": "5e04352b",
   "metadata": {},
   "source": [
    "2. Check the first few samples, shape, info of the data and try to familiarize\n",
    "   yourself with different features."
   ]
  },
  {
   "cell_type": "code",
   "execution_count": 7,
   "id": "6b7f7611",
   "metadata": {},
   "outputs": [
    {
     "data": {
      "text/plain": [
       "(614, 13)"
      ]
     },
     "execution_count": 7,
     "metadata": {},
     "output_type": "execute_result"
    }
   ],
   "source": [
    "df.shape"
   ]
  },
  {
   "cell_type": "code",
   "execution_count": 8,
   "id": "ccecefb2",
   "metadata": {},
   "outputs": [
    {
     "name": "stdout",
     "output_type": "stream",
     "text": [
      "<class 'pandas.core.frame.DataFrame'>\n",
      "RangeIndex: 614 entries, 0 to 613\n",
      "Data columns (total 13 columns):\n",
      " #   Column             Non-Null Count  Dtype  \n",
      "---  ------             --------------  -----  \n",
      " 0   loan_id            614 non-null    object \n",
      " 1   gender             601 non-null    object \n",
      " 2   married            611 non-null    object \n",
      " 3   dependents         599 non-null    float64\n",
      " 4   education          614 non-null    object \n",
      " 5   self_employed      582 non-null    object \n",
      " 6   applicantincome    614 non-null    int64  \n",
      " 7   coapplicantincome  614 non-null    float64\n",
      " 8   loanamount         592 non-null    float64\n",
      " 9   loan_amount_term   600 non-null    float64\n",
      " 10  credit_history     564 non-null    float64\n",
      " 11  property_area      614 non-null    object \n",
      " 12  loan_status        614 non-null    object \n",
      "dtypes: float64(5), int64(1), object(7)\n",
      "memory usage: 62.5+ KB\n"
     ]
    }
   ],
   "source": [
    "df.info()"
   ]
  },
  {
   "cell_type": "markdown",
   "id": "c1eff054",
   "metadata": {},
   "source": [
    "3. Check for missing values in the dataset, if present? handle them with\n",
    "   appropriate methods and drop redundant features."
   ]
  },
  {
   "cell_type": "code",
   "execution_count": 9,
   "id": "01abc3ec",
   "metadata": {},
   "outputs": [],
   "source": [
    "## drop unnecessary columns\n",
    "df.drop(['loan_id'],axis=1,inplace=True)"
   ]
  },
  {
   "cell_type": "code",
   "execution_count": 10,
   "id": "0d7fce29",
   "metadata": {},
   "outputs": [
    {
     "data": {
      "text/html": [
       "<div>\n",
       "<style scoped>\n",
       "    .dataframe tbody tr th:only-of-type {\n",
       "        vertical-align: middle;\n",
       "    }\n",
       "\n",
       "    .dataframe tbody tr th {\n",
       "        vertical-align: top;\n",
       "    }\n",
       "\n",
       "    .dataframe thead th {\n",
       "        text-align: right;\n",
       "    }\n",
       "</style>\n",
       "<table border=\"1\" class=\"dataframe\">\n",
       "  <thead>\n",
       "    <tr style=\"text-align: right;\">\n",
       "      <th></th>\n",
       "      <th>gender</th>\n",
       "      <th>married</th>\n",
       "      <th>dependents</th>\n",
       "      <th>education</th>\n",
       "      <th>self_employed</th>\n",
       "      <th>applicantincome</th>\n",
       "      <th>coapplicantincome</th>\n",
       "      <th>loanamount</th>\n",
       "      <th>loan_amount_term</th>\n",
       "      <th>credit_history</th>\n",
       "      <th>property_area</th>\n",
       "      <th>loan_status</th>\n",
       "    </tr>\n",
       "  </thead>\n",
       "  <tbody>\n",
       "    <tr>\n",
       "      <th>0</th>\n",
       "      <td>male</td>\n",
       "      <td>no</td>\n",
       "      <td>0.0</td>\n",
       "      <td>graduate</td>\n",
       "      <td>no</td>\n",
       "      <td>5849</td>\n",
       "      <td>0.0</td>\n",
       "      <td>NaN</td>\n",
       "      <td>360.0</td>\n",
       "      <td>1.0</td>\n",
       "      <td>urban</td>\n",
       "      <td>y</td>\n",
       "    </tr>\n",
       "    <tr>\n",
       "      <th>1</th>\n",
       "      <td>male</td>\n",
       "      <td>yes</td>\n",
       "      <td>1.0</td>\n",
       "      <td>graduate</td>\n",
       "      <td>no</td>\n",
       "      <td>4583</td>\n",
       "      <td>1508.0</td>\n",
       "      <td>128.0</td>\n",
       "      <td>360.0</td>\n",
       "      <td>1.0</td>\n",
       "      <td>rural</td>\n",
       "      <td>n</td>\n",
       "    </tr>\n",
       "    <tr>\n",
       "      <th>2</th>\n",
       "      <td>male</td>\n",
       "      <td>yes</td>\n",
       "      <td>0.0</td>\n",
       "      <td>graduate</td>\n",
       "      <td>yes</td>\n",
       "      <td>3000</td>\n",
       "      <td>0.0</td>\n",
       "      <td>66.0</td>\n",
       "      <td>360.0</td>\n",
       "      <td>1.0</td>\n",
       "      <td>urban</td>\n",
       "      <td>y</td>\n",
       "    </tr>\n",
       "    <tr>\n",
       "      <th>3</th>\n",
       "      <td>male</td>\n",
       "      <td>yes</td>\n",
       "      <td>0.0</td>\n",
       "      <td>not graduate</td>\n",
       "      <td>no</td>\n",
       "      <td>2583</td>\n",
       "      <td>2358.0</td>\n",
       "      <td>120.0</td>\n",
       "      <td>360.0</td>\n",
       "      <td>1.0</td>\n",
       "      <td>urban</td>\n",
       "      <td>y</td>\n",
       "    </tr>\n",
       "    <tr>\n",
       "      <th>4</th>\n",
       "      <td>male</td>\n",
       "      <td>no</td>\n",
       "      <td>0.0</td>\n",
       "      <td>graduate</td>\n",
       "      <td>no</td>\n",
       "      <td>6000</td>\n",
       "      <td>0.0</td>\n",
       "      <td>141.0</td>\n",
       "      <td>360.0</td>\n",
       "      <td>1.0</td>\n",
       "      <td>urban</td>\n",
       "      <td>y</td>\n",
       "    </tr>\n",
       "  </tbody>\n",
       "</table>\n",
       "</div>"
      ],
      "text/plain": [
       "  gender married  dependents     education self_employed  applicantincome   \n",
       "0   male      no         0.0      graduate            no             5849  \\\n",
       "1   male     yes         1.0      graduate            no             4583   \n",
       "2   male     yes         0.0      graduate           yes             3000   \n",
       "3   male     yes         0.0  not graduate            no             2583   \n",
       "4   male      no         0.0      graduate            no             6000   \n",
       "\n",
       "   coapplicantincome  loanamount  loan_amount_term  credit_history   \n",
       "0                0.0         NaN             360.0             1.0  \\\n",
       "1             1508.0       128.0             360.0             1.0   \n",
       "2                0.0        66.0             360.0             1.0   \n",
       "3             2358.0       120.0             360.0             1.0   \n",
       "4                0.0       141.0             360.0             1.0   \n",
       "\n",
       "  property_area loan_status  \n",
       "0         urban           y  \n",
       "1         rural           n  \n",
       "2         urban           y  \n",
       "3         urban           y  \n",
       "4         urban           y  "
      ]
     },
     "execution_count": 10,
     "metadata": {},
     "output_type": "execute_result"
    }
   ],
   "source": [
    "df.head()"
   ]
  },
  {
   "cell_type": "code",
   "execution_count": 11,
   "id": "f310b6dc",
   "metadata": {},
   "outputs": [
    {
     "data": {
      "text/plain": [
       "gender               13\n",
       "married               3\n",
       "dependents           15\n",
       "education             0\n",
       "self_employed        32\n",
       "applicantincome       0\n",
       "coapplicantincome     0\n",
       "loanamount           22\n",
       "loan_amount_term     14\n",
       "credit_history       50\n",
       "property_area         0\n",
       "loan_status           0\n",
       "dtype: int64"
      ]
     },
     "execution_count": 11,
     "metadata": {},
     "output_type": "execute_result"
    }
   ],
   "source": [
    "df.isnull().sum()"
   ]
  },
  {
   "cell_type": "code",
   "execution_count": null,
   "id": "947cfed2",
   "metadata": {},
   "outputs": [],
   "source": [
    "df.gender.unique()"
   ]
  },
  {
   "cell_type": "code",
   "execution_count": null,
   "id": "7c56d0b2",
   "metadata": {},
   "outputs": [],
   "source": [
    "df['gender'].fillna(df['gender'].mode()[0],inplace=True)"
   ]
  },
  {
   "cell_type": "code",
   "execution_count": null,
   "id": "56f85c5f",
   "metadata": {},
   "outputs": [],
   "source": [
    "df.gender.unique()"
   ]
  },
  {
   "cell_type": "code",
   "execution_count": null,
   "id": "048751ef",
   "metadata": {},
   "outputs": [],
   "source": [
    "df.married.unique()"
   ]
  },
  {
   "cell_type": "code",
   "execution_count": null,
   "id": "843c80a0",
   "metadata": {},
   "outputs": [],
   "source": [
    "df['married'].fillna(df['married'].mode()[0],inplace=True)"
   ]
  },
  {
   "cell_type": "code",
   "execution_count": null,
   "id": "a42f00be",
   "metadata": {},
   "outputs": [],
   "source": [
    "df.dependents.unique()"
   ]
  },
  {
   "cell_type": "code",
   "execution_count": null,
   "id": "99f48387",
   "metadata": {},
   "outputs": [],
   "source": [
    "df['dependents'].fillna(df['dependents'].mode()[0],inplace=True)"
   ]
  },
  {
   "cell_type": "code",
   "execution_count": null,
   "id": "bda7cf22",
   "metadata": {},
   "outputs": [],
   "source": [
    "df.education.unique()"
   ]
  },
  {
   "cell_type": "code",
   "execution_count": null,
   "id": "fff05525",
   "metadata": {},
   "outputs": [],
   "source": [
    "df['education'].fillna(df['education'].mode()[0],inplace=True)"
   ]
  },
  {
   "cell_type": "code",
   "execution_count": null,
   "id": "2dff1920",
   "metadata": {},
   "outputs": [],
   "source": [
    "df.self_employed.unique()"
   ]
  },
  {
   "cell_type": "code",
   "execution_count": null,
   "id": "27697d82",
   "metadata": {},
   "outputs": [],
   "source": [
    "df['self_employed'].fillna(df['self_employed'].mode()[0],inplace=True)"
   ]
  },
  {
   "cell_type": "code",
   "execution_count": null,
   "id": "0ab27fc0",
   "metadata": {},
   "outputs": [],
   "source": [
    "df['loanamount'].unique()"
   ]
  },
  {
   "cell_type": "code",
   "execution_count": null,
   "id": "42bb393f",
   "metadata": {},
   "outputs": [],
   "source": [
    "df['loanamount'].fillna(df['loanamount'].mean(),inplace=True)"
   ]
  },
  {
   "cell_type": "code",
   "execution_count": null,
   "id": "89b34255",
   "metadata": {},
   "outputs": [],
   "source": [
    "df.loan_amount_term.unique()"
   ]
  },
  {
   "cell_type": "code",
   "execution_count": null,
   "id": "db3568fb",
   "metadata": {},
   "outputs": [],
   "source": [
    "df['loan_amount_term'].fillna(df['loan_amount_term'].mode()[0],inplace=True)"
   ]
  },
  {
   "cell_type": "code",
   "execution_count": null,
   "id": "0dad2df8",
   "metadata": {},
   "outputs": [],
   "source": [
    "df.credit_history.unique()"
   ]
  },
  {
   "cell_type": "code",
   "execution_count": null,
   "id": "34a7d508",
   "metadata": {},
   "outputs": [],
   "source": [
    "df['credit_history'].fillna(df['credit_history'].mode()[0],inplace=True)"
   ]
  },
  {
   "cell_type": "code",
   "execution_count": null,
   "id": "c4d12a07",
   "metadata": {},
   "outputs": [],
   "source": [
    "df.isnull().sum()"
   ]
  },
  {
   "cell_type": "code",
   "execution_count": null,
   "id": "3843be47",
   "metadata": {},
   "outputs": [],
   "source": [
    "df.head()"
   ]
  },
  {
   "cell_type": "markdown",
   "id": "d0b8dd15",
   "metadata": {},
   "source": [
    "4. Visualize the distribution of the target column 'loan_status' with respect to\n",
    "   various categorical features and write your observations."
   ]
  },
  {
   "cell_type": "code",
   "execution_count": null,
   "id": "777ecb40",
   "metadata": {},
   "outputs": [],
   "source": [
    "df.replace({\"loan_status\":{'y':1,'n':0}},inplace=True)"
   ]
  },
  {
   "cell_type": "code",
   "execution_count": null,
   "id": "4a88ea39",
   "metadata": {},
   "outputs": [],
   "source": [
    "df.head()"
   ]
  },
  {
   "cell_type": "markdown",
   "id": "fe726e54",
   "metadata": {},
   "source": [
    "- Visualize"
   ]
  },
  {
   "cell_type": "code",
   "execution_count": null,
   "id": "e5a45b8c",
   "metadata": {},
   "outputs": [],
   "source": [
    "# gender and loan_status\n",
    "import seaborn as sns\n",
    "sns.countplot(x='gender',hue='loan_status',data=df)"
   ]
  },
  {
   "cell_type": "markdown",
   "id": "9f1f9a24",
   "metadata": {},
   "source": [
    "- We observe from graph that males take more loan."
   ]
  },
  {
   "cell_type": "code",
   "execution_count": null,
   "id": "264672ed",
   "metadata": {},
   "outputs": [],
   "source": [
    "# married and loan_status\n",
    "import seaborn as sns\n",
    "sns.countplot(x='married',hue='loan_status',data=df)"
   ]
  },
  {
   "cell_type": "markdown",
   "id": "08e92701",
   "metadata": {},
   "source": [
    "- We observe from graph that those who are married take more loan."
   ]
  },
  {
   "cell_type": "code",
   "execution_count": null,
   "id": "0acb020f",
   "metadata": {},
   "outputs": [],
   "source": [
    "# education and loan_status\n",
    "import seaborn as sns\n",
    "sns.countplot(x='education',hue='loan_status',data=df)"
   ]
  },
  {
   "cell_type": "markdown",
   "id": "cc2c2210",
   "metadata": {},
   "source": [
    "- We observe from graph that graduate take more loan."
   ]
  },
  {
   "cell_type": "code",
   "execution_count": null,
   "id": "6a9c01e3",
   "metadata": {},
   "outputs": [],
   "source": [
    "# self_employed and loan_status\n",
    "import seaborn as sns\n",
    "sns.countplot(x='self_employed',hue='loan_status',data=df)"
   ]
  },
  {
   "cell_type": "markdown",
   "id": "8f09d777",
   "metadata": {},
   "source": [
    "- We observe from graph that self employed people take less loan."
   ]
  },
  {
   "cell_type": "code",
   "execution_count": null,
   "id": "3989d547",
   "metadata": {},
   "outputs": [],
   "source": [
    "# credit_history and loan_status\n",
    "import seaborn as sns\n",
    "sns.countplot(x='credit_history',hue='loan_status',data=df)"
   ]
  },
  {
   "cell_type": "markdown",
   "id": "d1ff9033",
   "metadata": {},
   "source": [
    "- We observe from graph the credit history of people who take loan."
   ]
  },
  {
   "cell_type": "code",
   "execution_count": null,
   "id": "dc247335",
   "metadata": {},
   "outputs": [],
   "source": [
    "# property_area and loan_status\n",
    "import seaborn as sns\n",
    "sns.countplot(x='property_area',hue='loan_status',data=df)"
   ]
  },
  {
   "cell_type": "markdown",
   "id": "99531e1d",
   "metadata": {},
   "source": [
    "- We observe from graph that in semiurban place people take most loan."
   ]
  },
  {
   "cell_type": "markdown",
   "id": "ce50f9c2",
   "metadata": {},
   "source": [
    "5. Encode the categorical data."
   ]
  },
  {
   "cell_type": "code",
   "execution_count": null,
   "id": "69f2ebbf",
   "metadata": {},
   "outputs": [],
   "source": [
    "column=['gender','married','education','self_employed','credit_history','property_area']\n",
    "from sklearn.preprocessing import LabelEncoder\n",
    "le=LabelEncoder()\n",
    "\n",
    "for i in column:\n",
    "    df[i] = le.fit_transform(df[i])"
   ]
  },
  {
   "cell_type": "code",
   "execution_count": null,
   "id": "1a5d17d2",
   "metadata": {},
   "outputs": [],
   "source": [
    "df.head()"
   ]
  },
  {
   "cell_type": "markdown",
   "id": "e4edbea5",
   "metadata": {},
   "source": [
    "6. Separate the target and independent features and split the data into train\n",
    "   and test."
   ]
  },
  {
   "cell_type": "code",
   "execution_count": null,
   "id": "4f15c4d8",
   "metadata": {},
   "outputs": [],
   "source": [
    "## separate target and independent variables\n",
    "X = df.drop('loan_status',axis=1)\n",
    "y = df['loan_status']"
   ]
  },
  {
   "cell_type": "code",
   "execution_count": null,
   "id": "cbe03a07",
   "metadata": {},
   "outputs": [],
   "source": [
    "X_train,X_test,y_train,y_test = train_test_split(X,y,test_size=0.3,random_state=0)\n",
    "\n",
    "print(X_train.shape,X_test.shape)\n",
    "print(y_train.shape,y_test.shape)"
   ]
  },
  {
   "cell_type": "markdown",
   "id": "80bcff63",
   "metadata": {},
   "source": [
    "7. Build any classification model to predict the loan status of the customer\n",
    "   and save your model using pickle."
   ]
  },
  {
   "cell_type": "code",
   "execution_count": null,
   "id": "87c6cd2c",
   "metadata": {},
   "outputs": [],
   "source": [
    "from sklearn.ensemble import RandomForestRegressor\n",
    "from sklearn.model_selection import train_test_split\n",
    "import pandas as pd\n",
    "\n",
    "# Encode categorical columns using one-hot encoding\n",
    "df_encoded = pd.get_dummies(df, drop_first=True)\n",
    "\n",
    "\n",
    "# Split the data into train and test sets\n",
    "X_train, X_test, y_train, y_test = train_test_split(X, y, test_size=0.2, random_state=42)\n",
    "\n",
    "# Create a Random Forest Regressor model\n",
    "rf_model = RandomForestRegressor()\n",
    "\n",
    "# Fit the model on the training data\n",
    "rf_model.fit(X_train, y_train)\n",
    "\n",
    "# Make predictions on the training and testing data\n",
    "train_predictions = rf_model.predict(X_train)\n",
    "test_predictions = rf_model.predict(X_test)"
   ]
  },
  {
   "cell_type": "code",
   "execution_count": null,
   "id": "87f339dc",
   "metadata": {},
   "outputs": [],
   "source": [
    "# Save Model using pickle.\n",
    "\n",
    "# Uploaded seperately."
   ]
  }
 ],
 "metadata": {
  "kernelspec": {
   "display_name": "Python 3 (ipykernel)",
   "language": "python",
   "name": "python3"
  },
  "language_info": {
   "codemirror_mode": {
    "name": "ipython",
    "version": 3
   },
   "file_extension": ".py",
   "mimetype": "text/x-python",
   "name": "python",
   "nbconvert_exporter": "python",
   "pygments_lexer": "ipython3",
   "version": "3.10.10"
  }
 },
 "nbformat": 4,
 "nbformat_minor": 5
}
